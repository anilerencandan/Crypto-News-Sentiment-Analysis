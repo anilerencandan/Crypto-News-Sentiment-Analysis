{
 "cells": [
  {
   "cell_type": "code",
   "execution_count": 1,
   "id": "e2fb158b",
   "metadata": {},
   "outputs": [
    {
     "name": "stdout",
     "output_type": "stream",
     "text": [
      "200 haber başlığı ve içeriği 'donanim_haber.csv' dosyasına kaydedildi.\n"
     ]
    }
   ],
   "source": [
    "import requests\n",
    "from bs4 import BeautifulSoup\n",
    "import csv\n",
    "\n",
    "def fetch_page_content(url):\n",
    "    \"\"\"Verilen URL'den sayfa içeriğini getir.\"\"\"\n",
    "    response = requests.get(url)\n",
    "    return BeautifulSoup(response.content, 'html.parser')\n",
    "\n",
    "def extract_headlines(soup):\n",
    "    \"\"\"Gelen BeautifulSoup nesnesinden haber başlıklarını çıkar.\"\"\"\n",
    "    return soup.find_all('div', class_='govde')\n",
    "\n",
    "def extract_news_content(news_url):\n",
    "    \"\"\"Haber URL'sinden içeriği çıkar.\"\"\"\n",
    "    news_soup = fetch_page_content(news_url)\n",
    "    # 'bottom' sınıfına sahip div'leri hariç tut\n",
    "    bottom_div = news_soup.find('div', class_='bottom')\n",
    "    if bottom_div:\n",
    "        bottom_div.extract()  # 'bottom' div'ini çıkar\n",
    "\n",
    "    paragraphs = news_soup.find_all('p')\n",
    "    # Sadece haberle alakalı içerikleri filtrele\n",
    "    news_content = ' '.join(\n",
    "        p.text.strip() for p in paragraphs if p.text.strip() and \n",
    "        p.parent.name != 'div' and \n",
    "        'feed-comment' not in p.parent.get('class', [])\n",
    "    )\n",
    "    return news_content\n",
    "\n",
    "def save_to_csv(filename, headlines):\n",
    "    \"\"\"Haber başlıkları ve içeriklerini verilen dosyaya kaydet.\"\"\"\n",
    "    with open(filename, 'w', newline='', encoding='utf-8') as csvfile:\n",
    "        writer = csv.writer(csvfile)\n",
    "        writer.writerow(['Haber Başlığı', 'Haber İçeriği'])  # Başlık satırı ekle\n",
    "        writer.writerows(headlines)\n",
    "\n",
    "def main():\n",
    "    \"\"\"Ana işlem akışı.\"\"\"\n",
    "    page_number = 1\n",
    "    max_page_number = 10\n",
    "    total_headlines = []\n",
    "\n",
    "    while page_number <= max_page_number:\n",
    "        url = f'https://www.donanimhaber.com/kripto-para?sayfa={page_number}'\n",
    "        soup = fetch_page_content(url)\n",
    "        headlines = extract_headlines(soup)\n",
    "        \n",
    "        if not headlines:  # Eğer başlık yoksa döngüyü sonlandır\n",
    "            break\n",
    "\n",
    "        for headline in headlines:\n",
    "            title_tag = headline.find('a', class_='baslik')  # 'baslik' sınıfına sahip başlık\n",
    "            if title_tag:\n",
    "                news_title = title_tag.text.strip()  # Başlık metni\n",
    "                news_url = 'https://www.donanimhaber.com' + title_tag['href']  # Tam bağlantıyı oluştur\n",
    "                news_content = extract_news_content(news_url)  # İçeriği çıkar\n",
    "\n",
    "                if news_content:  # Eğer içerik boşsa kaydetme\n",
    "                    total_headlines.append([news_title, news_content])  # Başlık ve içeriği listeye ekle\n",
    "\n",
    "        page_number += 1  # Sonraki sayfaya geç\n",
    "\n",
    "    # Sonuçları CSV'ye kaydet\n",
    "    save_to_csv('donanim_haber.csv', total_headlines)\n",
    "    print(f\"{len(total_headlines)} haber başlığı ve içeriği 'donanim_haber.csv' dosyasına kaydedildi.\")\n",
    "\n",
    "if __name__ == \"__main__\":\n",
    "    main()\n"
   ]
  },
  {
   "cell_type": "code",
   "execution_count": null,
   "id": "8c406618",
   "metadata": {},
   "outputs": [],
   "source": []
  },
  {
   "cell_type": "code",
   "execution_count": null,
   "id": "8a0742e1",
   "metadata": {},
   "outputs": [],
   "source": []
  }
 ],
 "metadata": {
  "kernelspec": {
   "display_name": "Python 3 (ipykernel)",
   "language": "python",
   "name": "python3"
  },
  "language_info": {
   "codemirror_mode": {
    "name": "ipython",
    "version": 3
   },
   "file_extension": ".py",
   "mimetype": "text/x-python",
   "name": "python",
   "nbconvert_exporter": "python",
   "pygments_lexer": "ipython3",
   "version": "3.11.5"
  }
 },
 "nbformat": 4,
 "nbformat_minor": 5
}
